{
  "nbformat": 4,
  "nbformat_minor": 0,
  "metadata": {
    "colab": {
      "provenance": [],
      "authorship_tag": "ABX9TyPiKSww4LZ45Lc8AwduixEb",
      "include_colab_link": true
    },
    "kernelspec": {
      "name": "python3",
      "display_name": "Python 3"
    },
    "language_info": {
      "name": "python"
    }
  },
  "cells": [
    {
      "cell_type": "markdown",
      "metadata": {
        "id": "view-in-github",
        "colab_type": "text"
      },
      "source": [
        "<a href=\"https://colab.research.google.com/github/juandsalazars/pandas-training/blob/main/Numpy_exercises.ipynb\" target=\"_parent\"><img src=\"https://colab.research.google.com/assets/colab-badge.svg\" alt=\"Open In Colab\"/></a>"
      ]
    },
    {
      "cell_type": "code",
      "source": [
        "# Import the numpy package under the name np\n",
        "import numpy as np\n",
        "\n",
        "# Print the numpy version and the configuration\n",
        "print(np.__version__)"
      ],
      "metadata": {
        "id": "DtsuqY8ZdM0A",
        "colab": {
          "base_uri": "https://localhost:8080/"
        },
        "outputId": "52eb7577-383f-46c8-cc47-6142f26979e9"
      },
      "execution_count": 2,
      "outputs": [
        {
          "output_type": "stream",
          "name": "stdout",
          "text": [
            "1.26.4\n"
          ]
        }
      ]
    },
    {
      "cell_type": "markdown",
      "source": [
        "# Array creation"
      ],
      "metadata": {
        "id": "0eww8-TiuSY6"
      }
    },
    {
      "cell_type": "markdown",
      "source": [
        "### Create a numpy array of size 10, filled with zeros."
      ],
      "metadata": {
        "id": "1weqEjwtYlnV"
      }
    },
    {
      "cell_type": "code",
      "source": [
        "zeros = np.arange(10)*0\n",
        "zeros"
      ],
      "metadata": {
        "id": "qJWjjV5edW-V",
        "outputId": "2e9ea2da-1ae8-4dc6-c7b3-e8892e8a986c",
        "colab": {
          "base_uri": "https://localhost:8080/"
        }
      },
      "execution_count": 3,
      "outputs": [
        {
          "output_type": "execute_result",
          "data": {
            "text/plain": [
              "array([0, 0, 0, 0, 0, 0, 0, 0, 0, 0])"
            ]
          },
          "metadata": {},
          "execution_count": 3
        }
      ]
    },
    {
      "cell_type": "markdown",
      "source": [
        "### Create a numpy array with values ranging from 10 to 49"
      ],
      "metadata": {
        "id": "utKpw1dXYzJT"
      }
    },
    {
      "cell_type": "code",
      "source": [
        "np.arange(10,50)\n"
      ],
      "metadata": {
        "colab": {
          "base_uri": "https://localhost:8080/"
        },
        "id": "MwI18w2JVfNf",
        "outputId": "81c1e594-dd1b-4a28-9612-20c9c136d754"
      },
      "execution_count": 4,
      "outputs": [
        {
          "output_type": "execute_result",
          "data": {
            "text/plain": [
              "array([10, 11, 12, 13, 14, 15, 16, 17, 18, 19, 20, 21, 22, 23, 24, 25, 26,\n",
              "       27, 28, 29, 30, 31, 32, 33, 34, 35, 36, 37, 38, 39, 40, 41, 42, 43,\n",
              "       44, 45, 46, 47, 48, 49])"
            ]
          },
          "metadata": {},
          "execution_count": 4
        }
      ]
    },
    {
      "cell_type": "markdown",
      "source": [
        "## Create a numpy matrix of 2*2 integers, filled with ones."
      ],
      "metadata": {
        "id": "u-UWMk_LZCtL"
      }
    },
    {
      "cell_type": "code",
      "source": [
        "np.ones([2,2], dtype=int)"
      ],
      "metadata": {
        "colab": {
          "base_uri": "https://localhost:8080/"
        },
        "id": "93yjQdx9YAIp",
        "outputId": "d7d5e021-a2d8-4b75-8efd-c8dc43b37d04"
      },
      "execution_count": 5,
      "outputs": [
        {
          "output_type": "execute_result",
          "data": {
            "text/plain": [
              "array([[1, 1],\n",
              "       [1, 1]])"
            ]
          },
          "metadata": {},
          "execution_count": 5
        }
      ]
    },
    {
      "cell_type": "markdown",
      "source": [
        "## Create a numpy matrix of 3*2 float numbers, filled with ones."
      ],
      "metadata": {
        "id": "SA9mX8g4dK7s"
      }
    },
    {
      "cell_type": "code",
      "source": [
        "np.ones([3,2], dtype=float)"
      ],
      "metadata": {
        "id": "IsUC7yGQdQtP",
        "colab": {
          "base_uri": "https://localhost:8080/"
        },
        "outputId": "e780723f-b10c-431f-a33d-8ae362530de6"
      },
      "execution_count": 6,
      "outputs": [
        {
          "output_type": "execute_result",
          "data": {
            "text/plain": [
              "array([[1., 1.],\n",
              "       [1., 1.],\n",
              "       [1., 1.]])"
            ]
          },
          "metadata": {},
          "execution_count": 6
        }
      ]
    },
    {
      "cell_type": "markdown",
      "source": [
        "## Given the X numpy array, create a new numpy array with the same shape and type as X, filled with ones."
      ],
      "metadata": {
        "id": "YkARx28NdY-G"
      }
    },
    {
      "cell_type": "code",
      "source": [
        "import random\n",
        "num = random.randint(5,9)\n",
        "X = np.arange(num)\n",
        "X*0 + 1"
      ],
      "metadata": {
        "colab": {
          "base_uri": "https://localhost:8080/"
        },
        "id": "1-gvE5tMdk5G",
        "outputId": "036d323b-85b6-406e-851b-222f8468b7cd"
      },
      "execution_count": 7,
      "outputs": [
        {
          "output_type": "execute_result",
          "data": {
            "text/plain": [
              "array([1, 1, 1, 1, 1])"
            ]
          },
          "metadata": {},
          "execution_count": 7
        }
      ]
    },
    {
      "cell_type": "markdown",
      "source": [
        "How the repo does it:"
      ],
      "metadata": {
        "id": "4lcL5QEopmmI"
      }
    },
    {
      "cell_type": "code",
      "source": [
        "np.ones_like(X)"
      ],
      "metadata": {
        "colab": {
          "base_uri": "https://localhost:8080/"
        },
        "id": "Ko6ytV8Res2C",
        "outputId": "8e30c3aa-5833-4518-a5e5-d1eb48e3c304"
      },
      "execution_count": 8,
      "outputs": [
        {
          "output_type": "execute_result",
          "data": {
            "text/plain": [
              "array([1, 1, 1, 1, 1])"
            ]
          },
          "metadata": {},
          "execution_count": 8
        }
      ]
    },
    {
      "cell_type": "markdown",
      "source": [
        "## Given the X numpy matrix, create a new numpy matrix with the same shape and type as X, filled with zeros."
      ],
      "metadata": {
        "id": "0b7MUOPJfKj-"
      }
    },
    {
      "cell_type": "code",
      "source": [
        "import random\n",
        "rows = random.randint(2,9)\n",
        "cols = random.randint(2,9)\n",
        "X = np.arange(rows*cols).reshape(rows, cols)\n",
        "X*0"
      ],
      "metadata": {
        "colab": {
          "base_uri": "https://localhost:8080/"
        },
        "id": "7eEOqt4yfTwO",
        "outputId": "97cabfc6-b31a-4f5d-cdcb-b570ad85362d"
      },
      "execution_count": 9,
      "outputs": [
        {
          "output_type": "execute_result",
          "data": {
            "text/plain": [
              "array([[0, 0, 0],\n",
              "       [0, 0, 0],\n",
              "       [0, 0, 0],\n",
              "       [0, 0, 0]])"
            ]
          },
          "metadata": {},
          "execution_count": 9
        }
      ]
    },
    {
      "cell_type": "markdown",
      "source": [
        "How the repo does it:"
      ],
      "metadata": {
        "id": "aPI4h2jipr6l"
      }
    },
    {
      "cell_type": "code",
      "source": [
        "np.zeros_like(X)"
      ],
      "metadata": {
        "colab": {
          "base_uri": "https://localhost:8080/"
        },
        "id": "JvQ_WY9UfW8i",
        "outputId": "7fa4495c-1d9f-45a5-e44a-e7ac2750c49f"
      },
      "execution_count": 10,
      "outputs": [
        {
          "output_type": "execute_result",
          "data": {
            "text/plain": [
              "array([[0, 0, 0],\n",
              "       [0, 0, 0],\n",
              "       [0, 0, 0],\n",
              "       [0, 0, 0]])"
            ]
          },
          "metadata": {},
          "execution_count": 10
        }
      ]
    },
    {
      "cell_type": "markdown",
      "source": [
        "## Create a numpy matrix of 4*4 integers, filled with fives."
      ],
      "metadata": {
        "id": "VeYDczSEfm24"
      }
    },
    {
      "cell_type": "code",
      "source": [
        "np.arange(16).reshape(4,4)*0 + 5"
      ],
      "metadata": {
        "colab": {
          "base_uri": "https://localhost:8080/"
        },
        "id": "nZRvts8Bfscm",
        "outputId": "fed8a671-9560-4273-8e06-d46270aeea08"
      },
      "execution_count": 11,
      "outputs": [
        {
          "output_type": "execute_result",
          "data": {
            "text/plain": [
              "array([[5, 5, 5, 5],\n",
              "       [5, 5, 5, 5],\n",
              "       [5, 5, 5, 5],\n",
              "       [5, 5, 5, 5]])"
            ]
          },
          "metadata": {},
          "execution_count": 11
        }
      ]
    },
    {
      "cell_type": "markdown",
      "source": [
        "How the repo does it:"
      ],
      "metadata": {
        "id": "Cxi8VTXlpypz"
      }
    },
    {
      "cell_type": "code",
      "source": [
        "np.ones([4,4], dtype=int)*5"
      ],
      "metadata": {
        "colab": {
          "base_uri": "https://localhost:8080/"
        },
        "id": "uyioIvstgAqO",
        "outputId": "5416cd10-75a6-420d-e20b-faa3d6463cc5"
      },
      "execution_count": 12,
      "outputs": [
        {
          "output_type": "execute_result",
          "data": {
            "text/plain": [
              "array([[5, 5, 5, 5],\n",
              "       [5, 5, 5, 5],\n",
              "       [5, 5, 5, 5],\n",
              "       [5, 5, 5, 5]])"
            ]
          },
          "metadata": {},
          "execution_count": 12
        }
      ]
    },
    {
      "cell_type": "markdown",
      "source": [
        "## Given the X numpy matrix, create a new numpy matrix with the same shape and type as X, filled with sevens."
      ],
      "metadata": {
        "id": "zzuwB96IgRlF"
      }
    },
    {
      "cell_type": "code",
      "source": [
        "import random\n",
        "rows = random.randint(2,9)\n",
        "cols = random.randint(2,9)\n",
        "X = np.arange(rows*cols).reshape(rows, cols)\n",
        "X*0+7"
      ],
      "metadata": {
        "colab": {
          "base_uri": "https://localhost:8080/"
        },
        "id": "HTQ4U1g2gTH5",
        "outputId": "718e2a21-ea7f-457e-8abe-5403700b6072"
      },
      "execution_count": 13,
      "outputs": [
        {
          "output_type": "execute_result",
          "data": {
            "text/plain": [
              "array([[7, 7, 7, 7, 7, 7, 7],\n",
              "       [7, 7, 7, 7, 7, 7, 7],\n",
              "       [7, 7, 7, 7, 7, 7, 7],\n",
              "       [7, 7, 7, 7, 7, 7, 7],\n",
              "       [7, 7, 7, 7, 7, 7, 7],\n",
              "       [7, 7, 7, 7, 7, 7, 7],\n",
              "       [7, 7, 7, 7, 7, 7, 7],\n",
              "       [7, 7, 7, 7, 7, 7, 7],\n",
              "       [7, 7, 7, 7, 7, 7, 7]])"
            ]
          },
          "metadata": {},
          "execution_count": 13
        }
      ]
    },
    {
      "cell_type": "markdown",
      "source": [
        "## Create a 3*3 identity numpy matrix with ones on the diagonal and zeros elsewhere."
      ],
      "metadata": {
        "id": "sOafBpDTi4vE"
      }
    },
    {
      "cell_type": "code",
      "source": [
        "np.identity(3)"
      ],
      "metadata": {
        "colab": {
          "base_uri": "https://localhost:8080/"
        },
        "id": "Rrdn6ZdCjF3R",
        "outputId": "c4638feb-f9a7-4a2d-c71a-23a109c8bcd1"
      },
      "execution_count": 14,
      "outputs": [
        {
          "output_type": "execute_result",
          "data": {
            "text/plain": [
              "array([[1., 0., 0.],\n",
              "       [0., 1., 0.],\n",
              "       [0., 0., 1.]])"
            ]
          },
          "metadata": {},
          "execution_count": 14
        }
      ]
    },
    {
      "cell_type": "markdown",
      "source": [
        "## Create a numpy array, filled with 3 random integer values between 1 and 10."
      ],
      "metadata": {
        "id": "qJ3NTQrfjLNO"
      }
    },
    {
      "cell_type": "code",
      "source": [
        "np.random.randint(1, 10, size=3)"
      ],
      "metadata": {
        "colab": {
          "base_uri": "https://localhost:8080/"
        },
        "id": "Wry4bCtMjwba",
        "outputId": "b80c69eb-079c-4c19-da5c-2880d445057f"
      },
      "execution_count": 15,
      "outputs": [
        {
          "output_type": "execute_result",
          "data": {
            "text/plain": [
              "array([6, 2, 7])"
            ]
          },
          "metadata": {},
          "execution_count": 15
        }
      ]
    },
    {
      "cell_type": "markdown",
      "source": [
        "## Create a 3 * 3 * 3 numpy matrix, filled with random float values."
      ],
      "metadata": {
        "id": "j4CkQQbykavj"
      }
    },
    {
      "cell_type": "code",
      "source": [
        "np.random.rand(3,3,3)"
      ],
      "metadata": {
        "colab": {
          "base_uri": "https://localhost:8080/"
        },
        "id": "LxOR8n4uki1e",
        "outputId": "14125cf9-1a61-4ae3-9dd4-f891dc5e849c"
      },
      "execution_count": 16,
      "outputs": [
        {
          "output_type": "execute_result",
          "data": {
            "text/plain": [
              "array([[[0.77087813, 0.87718167, 0.08705136],\n",
              "        [0.15799739, 0.07394775, 0.31742492],\n",
              "        [0.40232751, 0.45666388, 0.45797499]],\n",
              "\n",
              "       [[0.55219233, 0.16416112, 0.35226173],\n",
              "        [0.05274106, 0.57056311, 0.36624897],\n",
              "        [0.80398849, 0.96532173, 0.22419048]],\n",
              "\n",
              "       [[0.61634902, 0.20809351, 0.78265857],\n",
              "        [0.67367932, 0.613799  , 0.7268233 ],\n",
              "        [0.4876789 , 0.32375302, 0.51760755]]])"
            ]
          },
          "metadata": {},
          "execution_count": 16
        }
      ]
    },
    {
      "cell_type": "markdown",
      "source": [
        "## Given the X python list convert it to an Y numpy array"
      ],
      "metadata": {
        "id": "IGbrlweqktcV"
      }
    },
    {
      "cell_type": "code",
      "source": [
        "X = [1, 20, 300]\n",
        "print(X, type(X))\n",
        "\n",
        "Y = np.array(X)\n",
        "print(Y, type(Y))"
      ],
      "metadata": {
        "colab": {
          "base_uri": "https://localhost:8080/"
        },
        "id": "Mz-pxBoskz59",
        "outputId": "03401239-f064-48f1-d3c5-323e59163f93"
      },
      "execution_count": 22,
      "outputs": [
        {
          "output_type": "stream",
          "name": "stdout",
          "text": [
            "[1, 20, 300] <class 'list'>\n",
            "[  1  20 300] <class 'numpy.ndarray'>\n"
          ]
        }
      ]
    },
    {
      "cell_type": "markdown",
      "source": [
        "## Given the X numpy array, make a copy and store it on Y."
      ],
      "metadata": {
        "id": "ozRG-mb_lDxS"
      }
    },
    {
      "cell_type": "code",
      "source": [
        "X = np.arange(10)\n",
        "Y = X.copy()\n",
        "X[0] = 1000\n",
        "print(X)\n",
        "print(Y)"
      ],
      "metadata": {
        "colab": {
          "base_uri": "https://localhost:8080/"
        },
        "id": "umJpzITWlkuF",
        "outputId": "7463619b-1f86-4020-9b0e-bc86c160c9a9"
      },
      "execution_count": 27,
      "outputs": [
        {
          "output_type": "stream",
          "name": "stdout",
          "text": [
            "[1000    1    2    3    4    5    6    7    8    9]\n",
            "[0 1 2 3 4 5 6 7 8 9]\n"
          ]
        }
      ]
    },
    {
      "cell_type": "markdown",
      "source": [
        "How the repo does it:"
      ],
      "metadata": {
        "id": "rXMWYtcNp-cr"
      }
    },
    {
      "cell_type": "code",
      "source": [
        "X = np.array([5,2,3])\n",
        "print(X, id(X))\n",
        "\n",
        "Y = np.copy(X)\n",
        "print(Y, id(Y)) # different id"
      ],
      "metadata": {
        "colab": {
          "base_uri": "https://localhost:8080/"
        },
        "id": "_6bLcXefl5gJ",
        "outputId": "7f7cc981-12bf-4238-d118-231dd62f1965"
      },
      "execution_count": 31,
      "outputs": [
        {
          "output_type": "stream",
          "name": "stdout",
          "text": [
            "[5 2 3] 134768382839856\n",
            "[5 2 3] 134768016718704\n"
          ]
        }
      ]
    },
    {
      "cell_type": "markdown",
      "source": [
        "## Create a numpy array with numbers from 1 to 10"
      ],
      "metadata": {
        "id": "TJz7o1blmQqn"
      }
    },
    {
      "cell_type": "code",
      "source": [
        "np.arange(10) + 1"
      ],
      "metadata": {
        "colab": {
          "base_uri": "https://localhost:8080/"
        },
        "id": "2XhAaeNemUiI",
        "outputId": "f14df8e5-05a9-48eb-8a3e-960bb018a73d"
      },
      "execution_count": 36,
      "outputs": [
        {
          "output_type": "execute_result",
          "data": {
            "text/plain": [
              "array([ 1,  2,  3,  4,  5,  6,  7,  8,  9, 10])"
            ]
          },
          "metadata": {},
          "execution_count": 36
        }
      ]
    },
    {
      "cell_type": "markdown",
      "source": [
        "How the repo does it:"
      ],
      "metadata": {
        "id": "8tn_r2G9qCHD"
      }
    },
    {
      "cell_type": "code",
      "source": [
        "np.arange(1,11)"
      ],
      "metadata": {
        "colab": {
          "base_uri": "https://localhost:8080/"
        },
        "id": "WymJ5WZSqFx8",
        "outputId": "091875d2-6f98-4d1c-86a3-943c8b2d3ee5"
      },
      "execution_count": 61,
      "outputs": [
        {
          "output_type": "execute_result",
          "data": {
            "text/plain": [
              "array([ 1,  2,  3,  4,  5,  6,  7,  8,  9, 10])"
            ]
          },
          "metadata": {},
          "execution_count": 61
        }
      ]
    },
    {
      "cell_type": "markdown",
      "source": [
        "## Create a numpy array with the odd numbers between 1 to 10"
      ],
      "metadata": {
        "id": "OJGV-vH6mcMH"
      }
    },
    {
      "cell_type": "code",
      "source": [
        "X = np.arange(10) + 1\n",
        "X[X % 2 == 1]"
      ],
      "metadata": {
        "colab": {
          "base_uri": "https://localhost:8080/"
        },
        "id": "K17yL4H1mgST",
        "outputId": "bd0217c1-2333-4b3b-e8a0-eb527b1f8492"
      },
      "execution_count": 37,
      "outputs": [
        {
          "output_type": "execute_result",
          "data": {
            "text/plain": [
              "array([1, 3, 5, 7, 9])"
            ]
          },
          "metadata": {},
          "execution_count": 37
        }
      ]
    },
    {
      "cell_type": "markdown",
      "source": [
        "How the repo does it:"
      ],
      "metadata": {
        "id": "IUKaCVLHqK0e"
      }
    },
    {
      "cell_type": "code",
      "source": [
        "np.arange(1, 11, 2)\n"
      ],
      "metadata": {
        "colab": {
          "base_uri": "https://localhost:8080/"
        },
        "id": "eon0-NREmrUY",
        "outputId": "53957db0-5805-4f56-af79-477d687d890c"
      },
      "execution_count": 38,
      "outputs": [
        {
          "output_type": "execute_result",
          "data": {
            "text/plain": [
              "array([1, 3, 5, 7, 9])"
            ]
          },
          "metadata": {},
          "execution_count": 38
        }
      ]
    },
    {
      "cell_type": "markdown",
      "source": [
        "## Create a numpy array with numbers from 1 to 10, in descending order."
      ],
      "metadata": {
        "id": "OircuZeIm0xz"
      }
    },
    {
      "cell_type": "code",
      "source": [
        "X = (np.arange(10) + 1)\n",
        "X[::-1]"
      ],
      "metadata": {
        "colab": {
          "base_uri": "https://localhost:8080/"
        },
        "id": "xgTc9ep-m4FJ",
        "outputId": "7fa0bb4b-1fad-429d-b73f-ba87193cae17"
      },
      "execution_count": 51,
      "outputs": [
        {
          "output_type": "execute_result",
          "data": {
            "text/plain": [
              "array([10,  9,  8,  7,  6,  5,  4,  3,  2,  1])"
            ]
          },
          "metadata": {},
          "execution_count": 51
        }
      ]
    },
    {
      "cell_type": "markdown",
      "source": [
        "## Create a 3*3 numpy matrix, filled with values ranging from 0 to 8"
      ],
      "metadata": {
        "id": "A0Hqh6EbndWF"
      }
    },
    {
      "cell_type": "code",
      "source": [
        "np.random.randint(0,8,(3,3), int)"
      ],
      "metadata": {
        "colab": {
          "base_uri": "https://localhost:8080/"
        },
        "id": "ApeDhKBCn3Pv",
        "outputId": "b7eceda8-40a0-472f-8cff-c45b7d2d5042"
      },
      "execution_count": 54,
      "outputs": [
        {
          "output_type": "execute_result",
          "data": {
            "text/plain": [
              "array([[0, 4, 2],\n",
              "       [5, 6, 3],\n",
              "       [4, 1, 6]])"
            ]
          },
          "metadata": {},
          "execution_count": 54
        }
      ]
    },
    {
      "cell_type": "markdown",
      "source": [
        "How the repo does it:"
      ],
      "metadata": {
        "id": "MFph-saBokw5"
      }
    },
    {
      "cell_type": "code",
      "source": [
        "np.arange(9).reshape(3,3)"
      ],
      "metadata": {
        "colab": {
          "base_uri": "https://localhost:8080/"
        },
        "id": "d_aws4maopYc",
        "outputId": "ce78fb83-57e6-4990-fda1-7c8e3568241a"
      },
      "execution_count": 59,
      "outputs": [
        {
          "output_type": "execute_result",
          "data": {
            "text/plain": [
              "array([[0, 1, 2],\n",
              "       [3, 4, 5],\n",
              "       [6, 7, 8]])"
            ]
          },
          "metadata": {},
          "execution_count": 59
        }
      ]
    },
    {
      "cell_type": "markdown",
      "source": [
        "## Show the memory size of the given Z numpy matrix"
      ],
      "metadata": {
        "id": "IIx4lIUCoraP"
      }
    },
    {
      "cell_type": "code",
      "source": [
        "Z = np.zeros((10,10))\n",
        "Z.size*Z.itemsize"
      ],
      "metadata": {
        "colab": {
          "base_uri": "https://localhost:8080/"
        },
        "id": "Q9m-mCs3o3OM",
        "outputId": "1af0d791-2c72-40f6-f350-47f98a250da9"
      },
      "execution_count": 65,
      "outputs": [
        {
          "output_type": "execute_result",
          "data": {
            "text/plain": [
              "800"
            ]
          },
          "metadata": {},
          "execution_count": 65
        }
      ]
    },
    {
      "cell_type": "markdown",
      "source": [
        "How the repo does it:"
      ],
      "metadata": {
        "id": "ZZCdB1bIpK9k"
      }
    },
    {
      "cell_type": "code",
      "source": [
        "print(\"%d bytes\" % (Z.size * Z.itemsize))"
      ],
      "metadata": {
        "colab": {
          "base_uri": "https://localhost:8080/"
        },
        "id": "QRqUEulMpPfp",
        "outputId": "ac41730a-0cd2-493a-8cc6-c3a1d796f13e"
      },
      "execution_count": 64,
      "outputs": [
        {
          "output_type": "stream",
          "name": "stdout",
          "text": [
            "800 bytes\n"
          ]
        }
      ]
    },
    {
      "cell_type": "markdown",
      "source": [
        "# Array indexation"
      ],
      "metadata": {
        "id": "pwnmJ3MyuaIM"
      }
    },
    {
      "cell_type": "markdown",
      "source": [
        "## Given the X numpy array, show it's first element"
      ],
      "metadata": {
        "id": "etRui28xquif"
      }
    },
    {
      "cell_type": "code",
      "source": [
        "X = np.arange(10)\n",
        "X[0]"
      ],
      "metadata": {
        "colab": {
          "base_uri": "https://localhost:8080/"
        },
        "id": "PiA6uJpZq8JC",
        "outputId": "49021845-728c-4008-fb98-62c2720ced79"
      },
      "execution_count": 66,
      "outputs": [
        {
          "output_type": "execute_result",
          "data": {
            "text/plain": [
              "0"
            ]
          },
          "metadata": {},
          "execution_count": 66
        }
      ]
    },
    {
      "cell_type": "markdown",
      "source": [
        "## Given the X numpy array, show it's last element"
      ],
      "metadata": {
        "id": "bMhioW6VrBJ1"
      }
    },
    {
      "cell_type": "code",
      "source": [
        "X = np.arange(10)\n",
        "X[-1]"
      ],
      "metadata": {
        "colab": {
          "base_uri": "https://localhost:8080/"
        },
        "id": "1iN67n9rrFde",
        "outputId": "48a404b9-02d3-4920-f7be-425625bdfd80"
      },
      "execution_count": 68,
      "outputs": [
        {
          "output_type": "execute_result",
          "data": {
            "text/plain": [
              "9"
            ]
          },
          "metadata": {},
          "execution_count": 68
        }
      ]
    },
    {
      "cell_type": "markdown",
      "source": [
        "## Given the X numpy array, show it's first three elements"
      ],
      "metadata": {
        "id": "iZalVCUVrJZK"
      }
    },
    {
      "cell_type": "code",
      "source": [
        "X = np.arange(10)\n",
        "X[0:3]"
      ],
      "metadata": {
        "colab": {
          "base_uri": "https://localhost:8080/"
        },
        "id": "xNFI4MESrMw2",
        "outputId": "1f9f830f-dc5b-4536-8edb-6d9a2c50fbc1"
      },
      "execution_count": 71,
      "outputs": [
        {
          "output_type": "execute_result",
          "data": {
            "text/plain": [
              "array([0, 1, 2])"
            ]
          },
          "metadata": {},
          "execution_count": 71
        }
      ]
    },
    {
      "cell_type": "markdown",
      "source": [
        "## Given the X numpy array, show all middle elements"
      ],
      "metadata": {
        "id": "m3Z5IZ91rPz8"
      }
    },
    {
      "cell_type": "code",
      "source": [
        "X = np.arange(10)\n",
        "X[1:-1]"
      ],
      "metadata": {
        "colab": {
          "base_uri": "https://localhost:8080/"
        },
        "id": "a57ChgktrXe2",
        "outputId": "6562f714-1b99-40c2-95b3-c94a09c3d0da"
      },
      "execution_count": 74,
      "outputs": [
        {
          "output_type": "execute_result",
          "data": {
            "text/plain": [
              "array([1, 2, 3, 4, 5, 6, 7, 8])"
            ]
          },
          "metadata": {},
          "execution_count": 74
        }
      ]
    },
    {
      "cell_type": "markdown",
      "source": [
        "## Given the X numpy array, show the elements in reverse position"
      ],
      "metadata": {
        "id": "ZmxYkG4trgeS"
      }
    },
    {
      "cell_type": "code",
      "source": [
        "X = np.arange(10)\n",
        "X[::-1]"
      ],
      "metadata": {
        "colab": {
          "base_uri": "https://localhost:8080/"
        },
        "id": "T4KIgESDrkCV",
        "outputId": "c5791a35-1de4-4c95-e852-d586a33d0a75"
      },
      "execution_count": 75,
      "outputs": [
        {
          "output_type": "execute_result",
          "data": {
            "text/plain": [
              "array([9, 8, 7, 6, 5, 4, 3, 2, 1, 0])"
            ]
          },
          "metadata": {},
          "execution_count": 75
        }
      ]
    },
    {
      "cell_type": "markdown",
      "source": [
        "## Given the X numpy array, show the elements in an odd position"
      ],
      "metadata": {
        "id": "b-anEsvnrnG9"
      }
    },
    {
      "cell_type": "code",
      "source": [
        "X = np.arange(10)\n",
        "X[::2]"
      ],
      "metadata": {
        "colab": {
          "base_uri": "https://localhost:8080/"
        },
        "id": "V1b-CySIrrS-",
        "outputId": "6846c12d-ad05-45b5-ec28-b057adf3521a"
      },
      "execution_count": 77,
      "outputs": [
        {
          "output_type": "execute_result",
          "data": {
            "text/plain": [
              "array([0, 2, 4, 6, 8])"
            ]
          },
          "metadata": {},
          "execution_count": 77
        }
      ]
    },
    {
      "cell_type": "markdown",
      "source": [
        "## Given the X numpy matrix, show the first row elements"
      ],
      "metadata": {
        "id": "pstmpuVTr1JA"
      }
    },
    {
      "cell_type": "code",
      "source": [
        "X = np.arange(16).reshape(4,4)\n",
        "X[0][:]"
      ],
      "metadata": {
        "colab": {
          "base_uri": "https://localhost:8080/"
        },
        "id": "L2Rh_u8lr2lt",
        "outputId": "c85d5795-1e4a-4492-90dc-bdd2983555a5"
      },
      "execution_count": 86,
      "outputs": [
        {
          "output_type": "execute_result",
          "data": {
            "text/plain": [
              "array([0, 1, 2, 3])"
            ]
          },
          "metadata": {},
          "execution_count": 86
        }
      ]
    },
    {
      "cell_type": "markdown",
      "source": [
        "## Given the X numpy matrix, show the last row elements"
      ],
      "metadata": {
        "id": "W7-iQMLpso1C"
      }
    },
    {
      "cell_type": "code",
      "source": [
        "X = np.arange(16).reshape(4,4)\n",
        "X[-1]"
      ],
      "metadata": {
        "colab": {
          "base_uri": "https://localhost:8080/"
        },
        "id": "JejpMm5wssJL",
        "outputId": "0695cea6-2e3b-46e6-a79b-f2d1aa8fe16c"
      },
      "execution_count": 87,
      "outputs": [
        {
          "output_type": "execute_result",
          "data": {
            "text/plain": [
              "array([12, 13, 14, 15])"
            ]
          },
          "metadata": {},
          "execution_count": 87
        }
      ]
    },
    {
      "cell_type": "markdown",
      "source": [
        "## Given the X numpy matrix, show the first element on first row"
      ],
      "metadata": {
        "id": "ggzDI9VGswFb"
      }
    },
    {
      "cell_type": "code",
      "source": [
        "X = np.arange(16).reshape(4,4)\n",
        "X[0][0]"
      ],
      "metadata": {
        "colab": {
          "base_uri": "https://localhost:8080/"
        },
        "id": "ZjEwOi4Osz8L",
        "outputId": "d109fb30-2ef7-4677-d5db-7ebe07ba5717"
      },
      "execution_count": 88,
      "outputs": [
        {
          "output_type": "execute_result",
          "data": {
            "text/plain": [
              "0"
            ]
          },
          "metadata": {},
          "execution_count": 88
        }
      ]
    },
    {
      "cell_type": "markdown",
      "source": [
        "How the repo does it:"
      ],
      "metadata": {
        "id": "BBWsZvF4s9K-"
      }
    },
    {
      "cell_type": "code",
      "source": [
        "X[0,0]"
      ],
      "metadata": {
        "colab": {
          "base_uri": "https://localhost:8080/"
        },
        "id": "CNncwNemtBLB",
        "outputId": "1632a3df-6592-484b-8235-3fc1db3fbe54"
      },
      "execution_count": 89,
      "outputs": [
        {
          "output_type": "execute_result",
          "data": {
            "text/plain": [
              "0"
            ]
          },
          "metadata": {},
          "execution_count": 89
        }
      ]
    },
    {
      "cell_type": "markdown",
      "source": [
        "## Given the X numpy matrix, show the last element on last row"
      ],
      "metadata": {
        "id": "TMcR5mJQs3VV"
      }
    },
    {
      "cell_type": "code",
      "source": [
        "X = np.arange(16).reshape(4,4)\n",
        "X[-1][-1]"
      ],
      "metadata": {
        "colab": {
          "base_uri": "https://localhost:8080/"
        },
        "id": "aud_RFb3tDzf",
        "outputId": "c187d8fb-2450-428d-ecc5-9b5c54cc2302"
      },
      "execution_count": 91,
      "outputs": [
        {
          "output_type": "execute_result",
          "data": {
            "text/plain": [
              "15"
            ]
          },
          "metadata": {},
          "execution_count": 91
        }
      ]
    },
    {
      "cell_type": "markdown",
      "source": [
        "## Given the X numpy matrix, show the middle row elements"
      ],
      "metadata": {
        "id": "XXnzawKBtHGv"
      }
    },
    {
      "cell_type": "code",
      "source": [
        "X = np.arange(16).reshape(4,4)\n",
        "X[1:-1]"
      ],
      "metadata": {
        "colab": {
          "base_uri": "https://localhost:8080/"
        },
        "id": "bVzCbzSstQ4w",
        "outputId": "dee3682c-1f3b-462d-c78e-ca16fddbd1d5"
      },
      "execution_count": 92,
      "outputs": [
        {
          "output_type": "execute_result",
          "data": {
            "text/plain": [
              "array([[ 4,  5,  6,  7],\n",
              "       [ 8,  9, 10, 11]])"
            ]
          },
          "metadata": {},
          "execution_count": 92
        }
      ]
    },
    {
      "cell_type": "markdown",
      "source": [
        "How the repo does it:"
      ],
      "metadata": {
        "id": "Wh9oRrjItYd6"
      }
    },
    {
      "cell_type": "code",
      "source": [
        "#X[1:-1][1:-1] wrong!\n",
        "X[1:-1, 1:-1]"
      ],
      "metadata": {
        "colab": {
          "base_uri": "https://localhost:8080/"
        },
        "id": "s4ZHAuF2tgZO",
        "outputId": "c600f34c-2d33-4dac-b0a9-af9ff4633b2f"
      },
      "execution_count": 93,
      "outputs": [
        {
          "output_type": "execute_result",
          "data": {
            "text/plain": [
              "array([[ 5,  6],\n",
              "       [ 9, 10]])"
            ]
          },
          "metadata": {},
          "execution_count": 93
        }
      ]
    },
    {
      "cell_type": "markdown",
      "source": [
        "## Given the X numpy matrix, show the first two elements on the first two rows"
      ],
      "metadata": {
        "id": "POhjjPzAtiYw"
      }
    },
    {
      "cell_type": "code",
      "source": [
        "X = np.arange(16).reshape(4,4)\n",
        "X[:2,:2]"
      ],
      "metadata": {
        "colab": {
          "base_uri": "https://localhost:8080/"
        },
        "id": "8jwYtQBKto0g",
        "outputId": "c5827386-8992-45f6-b704-ca3f69f4fc61"
      },
      "execution_count": 96,
      "outputs": [
        {
          "output_type": "execute_result",
          "data": {
            "text/plain": [
              "array([[0, 1],\n",
              "       [4, 5]])"
            ]
          },
          "metadata": {},
          "execution_count": 96
        }
      ]
    },
    {
      "cell_type": "markdown",
      "source": [
        "## Given the X numpy matrix, show the last two elements on the last two rows"
      ],
      "metadata": {
        "id": "9j0TycJyt5cq"
      }
    },
    {
      "cell_type": "code",
      "source": [
        "X = np.arange(25).reshape(5,5)\n",
        "X[-2:,-2:]"
      ],
      "metadata": {
        "colab": {
          "base_uri": "https://localhost:8080/"
        },
        "id": "Vk1tSKdIt8aP",
        "outputId": "70ca28de-515b-4632-b22b-90ea066fc71b"
      },
      "execution_count": 100,
      "outputs": [
        {
          "output_type": "execute_result",
          "data": {
            "text/plain": [
              "array([[18, 19],\n",
              "       [23, 24]])"
            ]
          },
          "metadata": {},
          "execution_count": 100
        }
      ]
    },
    {
      "cell_type": "markdown",
      "source": [
        "# Array manipulation"
      ],
      "metadata": {
        "id": "K-J2owknudXI"
      }
    },
    {
      "cell_type": "markdown",
      "source": [
        "## Convert the given integer numpy array to float"
      ],
      "metadata": {
        "id": "iL3X8V7Iuh8p"
      }
    },
    {
      "cell_type": "code",
      "source": [
        "X = np.array([1,2,3,4,5])\n",
        "np.array(X, float)"
      ],
      "metadata": {
        "colab": {
          "base_uri": "https://localhost:8080/"
        },
        "id": "tEKf1a4iulo-",
        "outputId": "50ec430a-83cb-48db-ddc9-1f9de14e419a"
      },
      "execution_count": 103,
      "outputs": [
        {
          "output_type": "execute_result",
          "data": {
            "text/plain": [
              "array([1., 2., 3., 4., 5.])"
            ]
          },
          "metadata": {},
          "execution_count": 103
        }
      ]
    },
    {
      "cell_type": "markdown",
      "source": [
        "## Reverse the given numpy array (first element becomes last)"
      ],
      "metadata": {
        "id": "Gw7VCpOWvmIm"
      }
    },
    {
      "cell_type": "code",
      "source": [
        "X = np.arange(10)\n",
        "X[::-1]"
      ],
      "metadata": {
        "colab": {
          "base_uri": "https://localhost:8080/"
        },
        "id": "dtsYsPTOvo0F",
        "outputId": "07f887b5-bf0b-48c3-f94b-46c1d7b47370"
      },
      "execution_count": 105,
      "outputs": [
        {
          "output_type": "execute_result",
          "data": {
            "text/plain": [
              "array([9, 8, 7, 6, 5, 4, 3, 2, 1, 0])"
            ]
          },
          "metadata": {},
          "execution_count": 105
        }
      ]
    },
    {
      "cell_type": "markdown",
      "source": [
        "## Order (sort) the given numpy array"
      ],
      "metadata": {
        "id": "NoRcmjj-v2N-"
      }
    },
    {
      "cell_type": "code",
      "source": [
        "X = np.random.randint(10, size=10)\n",
        "X.sort()\n",
        "print(X)"
      ],
      "metadata": {
        "colab": {
          "base_uri": "https://localhost:8080/"
        },
        "id": "wUT8azI4wGMm",
        "outputId": "2f949395-be2a-42fb-eb2c-6e0851652b09"
      },
      "execution_count": 109,
      "outputs": [
        {
          "output_type": "stream",
          "name": "stdout",
          "text": [
            "[2 4 4 5 7 7 8 8 8 9]\n"
          ]
        }
      ]
    },
    {
      "cell_type": "markdown",
      "source": [
        "## Given the X numpy array, set the fifth element equal to 1"
      ],
      "metadata": {
        "id": "ukZ2QgDVwP3B"
      }
    },
    {
      "cell_type": "code",
      "source": [
        "X = np.arange(10)\n",
        "X[4] = 1\n",
        "X"
      ],
      "metadata": {
        "colab": {
          "base_uri": "https://localhost:8080/"
        },
        "id": "XtmMsAbAwVKw",
        "outputId": "63e2de01-5531-4910-f680-14c4d5b89fbf"
      },
      "execution_count": 111,
      "outputs": [
        {
          "output_type": "execute_result",
          "data": {
            "text/plain": [
              "array([0, 1, 2, 3, 1, 5, 6, 7, 8, 9])"
            ]
          },
          "metadata": {},
          "execution_count": 111
        }
      ]
    },
    {
      "cell_type": "markdown",
      "source": [
        "## Given the X numpy array, change the 50 with a 40"
      ],
      "metadata": {
        "id": "-ZI6EugtwhBh"
      }
    },
    {
      "cell_type": "code",
      "source": [
        "X = np.arange(0, 51, 10)\n",
        "X[-1] = 40\n",
        "X"
      ],
      "metadata": {
        "colab": {
          "base_uri": "https://localhost:8080/"
        },
        "id": "Li_kv12Xwm2g",
        "outputId": "9e14f369-3437-4fc2-dd1b-64c7e2204d70"
      },
      "execution_count": 114,
      "outputs": [
        {
          "output_type": "execute_result",
          "data": {
            "text/plain": [
              "array([ 0, 10, 20, 30, 40, 40])"
            ]
          },
          "metadata": {},
          "execution_count": 114
        }
      ]
    },
    {
      "cell_type": "markdown",
      "source": [
        "## Given the X numpy matrix, change the last row with all 1"
      ],
      "metadata": {
        "id": "NPF-yKXYxQcV"
      }
    },
    {
      "cell_type": "code",
      "source": [
        "X = np.arange(16).reshape(4,4)\n",
        "X[-1] = 1\n",
        "X"
      ],
      "metadata": {
        "colab": {
          "base_uri": "https://localhost:8080/"
        },
        "id": "fBDBgVuRxXdH",
        "outputId": "b5e80028-5dd9-4c4f-d23c-0e5ba755cb05"
      },
      "execution_count": 120,
      "outputs": [
        {
          "output_type": "execute_result",
          "data": {
            "text/plain": [
              "array([[ 0,  1,  2,  3],\n",
              "       [ 4,  5,  6,  7],\n",
              "       [ 8,  9, 10, 11],\n",
              "       [ 1,  1,  1,  1]])"
            ]
          },
          "metadata": {},
          "execution_count": 120
        }
      ]
    },
    {
      "cell_type": "markdown",
      "source": [
        "How the repo does it:"
      ],
      "metadata": {
        "id": "gfZZX2p8xvFD"
      }
    },
    {
      "cell_type": "code",
      "source": [
        "X[-1] = np.array([1, 1, 1, 1])\n",
        "X"
      ],
      "metadata": {
        "colab": {
          "base_uri": "https://localhost:8080/"
        },
        "id": "0uIkZQ8gxxB_",
        "outputId": "7cd4b26a-dcc4-453e-9666-2c3935d02189"
      },
      "execution_count": 121,
      "outputs": [
        {
          "output_type": "execute_result",
          "data": {
            "text/plain": [
              "array([[ 0,  1,  2,  3],\n",
              "       [ 4,  5,  6,  7],\n",
              "       [ 8,  9, 10, 11],\n",
              "       [ 1,  1,  1,  1]])"
            ]
          },
          "metadata": {},
          "execution_count": 121
        }
      ]
    },
    {
      "cell_type": "markdown",
      "source": [
        "## Given the X numpy matrix, change the last item on the last row with a 0"
      ],
      "metadata": {
        "id": "hxDembcixxyo"
      }
    },
    {
      "cell_type": "code",
      "source": [
        "X = np.arange(16).reshape(4,4)\n",
        "X[-1, -1] = 0\n",
        "X"
      ],
      "metadata": {
        "colab": {
          "base_uri": "https://localhost:8080/"
        },
        "id": "3zl_Kr81x49q",
        "outputId": "5340298b-a616-4165-b691-ee6e21493a1b"
      },
      "execution_count": 124,
      "outputs": [
        {
          "output_type": "execute_result",
          "data": {
            "text/plain": [
              "array([[ 0,  1,  2,  3],\n",
              "       [ 4,  5,  6,  7],\n",
              "       [ 8,  9, 10, 11],\n",
              "       [12, 13, 14,  0]])"
            ]
          },
          "metadata": {},
          "execution_count": 124
        }
      ]
    },
    {
      "cell_type": "markdown",
      "source": [
        "## Given the X numpy matrix, add 5 to every element"
      ],
      "metadata": {
        "id": "kDtCHjX-yFzu"
      }
    },
    {
      "cell_type": "code",
      "source": [
        "X = np.arange(16).reshape(4,4)\n",
        "X + 5"
      ],
      "metadata": {
        "colab": {
          "base_uri": "https://localhost:8080/"
        },
        "id": "Ko2bSsXJyHjs",
        "outputId": "6915a2a0-6732-441e-8227-fb06705d793d"
      },
      "execution_count": 125,
      "outputs": [
        {
          "output_type": "execute_result",
          "data": {
            "text/plain": [
              "array([[ 5,  6,  7,  8],\n",
              "       [ 9, 10, 11, 12],\n",
              "       [13, 14, 15, 16],\n",
              "       [17, 18, 19, 20]])"
            ]
          },
          "metadata": {},
          "execution_count": 125
        }
      ]
    },
    {
      "cell_type": "markdown",
      "source": [
        "# Boolean arrays (also called masks)"
      ],
      "metadata": {
        "id": "AB248Ml7yLEe"
      }
    },
    {
      "cell_type": "markdown",
      "source": [
        "## Given the X numpy array, make a mask showing negative elements"
      ],
      "metadata": {
        "id": "LWTl4f18yQGz"
      }
    },
    {
      "cell_type": "code",
      "source": [
        "X = np.array([-1,2,0,-4,5,6,0,0,-9,10])\n",
        "X < 0"
      ],
      "metadata": {
        "colab": {
          "base_uri": "https://localhost:8080/"
        },
        "id": "MQAA-gFhyTBy",
        "outputId": "f6be401c-dc57-4311-bbaf-a8c5348958e9"
      },
      "execution_count": 128,
      "outputs": [
        {
          "output_type": "execute_result",
          "data": {
            "text/plain": [
              "array([ True, False, False,  True, False, False, False, False,  True,\n",
              "       False])"
            ]
          },
          "metadata": {},
          "execution_count": 128
        }
      ]
    },
    {
      "cell_type": "markdown",
      "source": [
        "How the repo does it (which I think is wrong because 0 is not negative):"
      ],
      "metadata": {
        "id": "bd938LWWykjs"
      }
    },
    {
      "cell_type": "code",
      "source": [
        "mask = X <= 0\n",
        "mask"
      ],
      "metadata": {
        "colab": {
          "base_uri": "https://localhost:8080/"
        },
        "id": "uhyoUjHdymHR",
        "outputId": "ecfac937-a5ee-4bfd-bcaa-e6bae0c464e0"
      },
      "execution_count": 130,
      "outputs": [
        {
          "output_type": "execute_result",
          "data": {
            "text/plain": [
              "array([ True, False,  True,  True, False, False,  True,  True,  True,\n",
              "       False])"
            ]
          },
          "metadata": {},
          "execution_count": 130
        }
      ]
    },
    {
      "cell_type": "markdown",
      "source": [
        "## Given the X numpy array, get the negative elements"
      ],
      "metadata": {
        "id": "xY1K6CXzyopz"
      }
    },
    {
      "cell_type": "markdown",
      "source": [],
      "metadata": {
        "id": "6tmEeoLWy7pJ"
      }
    },
    {
      "cell_type": "code",
      "source": [
        "X = np.array([-1,2,0,-4,5,6,0,0,-9,10])\n",
        "X[X < 0]"
      ],
      "metadata": {
        "colab": {
          "base_uri": "https://localhost:8080/"
        },
        "id": "iIZv2xHVyzvF",
        "outputId": "dbaf5132-aaa5-4e3a-8324-45fd2ca76a7e"
      },
      "execution_count": 132,
      "outputs": [
        {
          "output_type": "execute_result",
          "data": {
            "text/plain": [
              "array([-1, -4, -9])"
            ]
          },
          "metadata": {},
          "execution_count": 132
        }
      ]
    },
    {
      "cell_type": "markdown",
      "source": [
        "## Given the X numpy array, get numbers higher than 5"
      ],
      "metadata": {
        "id": "aEMjnPbmy9TP"
      }
    },
    {
      "cell_type": "code",
      "source": [
        "X[X>5]"
      ],
      "metadata": {
        "colab": {
          "base_uri": "https://localhost:8080/"
        },
        "id": "Xf8MAN2JzCfW",
        "outputId": "462865df-47b4-4e1a-b3a4-8af22ce72a34"
      },
      "execution_count": 134,
      "outputs": [
        {
          "output_type": "execute_result",
          "data": {
            "text/plain": [
              "array([ 6, 10])"
            ]
          },
          "metadata": {},
          "execution_count": 134
        }
      ]
    },
    {
      "cell_type": "markdown",
      "source": [
        "## Given the X numpy array, get numbers higher than the elements mean"
      ],
      "metadata": {
        "id": "wnYgPRNQzHBy"
      }
    },
    {
      "cell_type": "code",
      "source": [
        "X[X > X.mean()]"
      ],
      "metadata": {
        "colab": {
          "base_uri": "https://localhost:8080/"
        },
        "id": "ehceEswrzK2A",
        "outputId": "1fb38c3d-b082-4fb8-dcab-27534f035a4b"
      },
      "execution_count": 136,
      "outputs": [
        {
          "output_type": "execute_result",
          "data": {
            "text/plain": [
              "array([ 2,  5,  6, 10])"
            ]
          },
          "metadata": {},
          "execution_count": 136
        }
      ]
    },
    {
      "cell_type": "markdown",
      "source": [
        "## Given the X numpy array, get numbers equal to 2 or 10"
      ],
      "metadata": {
        "id": "43KC-FWWzT1w"
      }
    },
    {
      "cell_type": "code",
      "source": [
        "X[(X == 2) | (X == 10)]"
      ],
      "metadata": {
        "colab": {
          "base_uri": "https://localhost:8080/"
        },
        "id": "1fnDs_1nzWFd",
        "outputId": "fbc64f4d-7c3f-4c4a-f374-ec53ecba6765"
      },
      "execution_count": 143,
      "outputs": [
        {
          "output_type": "execute_result",
          "data": {
            "text/plain": [
              "array([ 2, 10])"
            ]
          },
          "metadata": {},
          "execution_count": 143
        }
      ]
    },
    {
      "cell_type": "markdown",
      "source": [
        "# Logic functions"
      ],
      "metadata": {
        "id": "d8YHDvx1zvbQ"
      }
    },
    {
      "cell_type": "markdown",
      "source": [
        "## Given the X numpy array, return True if none of its elements is zero"
      ],
      "metadata": {
        "id": "k4l2ijFGzzV1"
      }
    },
    {
      "cell_type": "code",
      "source": [
        "X = np.array([-1, 2, 0, -4, 5, 6, 0, 0, -9, 10])\n",
        "X.all()"
      ],
      "metadata": {
        "colab": {
          "base_uri": "https://localhost:8080/"
        },
        "id": "cFBo6ja0z2IA",
        "outputId": "922ab4b6-ab29-4ae6-dc92-d3a4e9df26c0"
      },
      "execution_count": 148,
      "outputs": [
        {
          "output_type": "execute_result",
          "data": {
            "text/plain": [
              "False"
            ]
          },
          "metadata": {},
          "execution_count": 148
        }
      ]
    },
    {
      "cell_type": "markdown",
      "source": [
        "## Given the X numpy array, return True if any of its elements is zero"
      ],
      "metadata": {
        "id": "HD1QDNcw0rg7"
      }
    },
    {
      "cell_type": "code",
      "source": [
        "X.any()"
      ],
      "metadata": {
        "colab": {
          "base_uri": "https://localhost:8080/"
        },
        "id": "Wp42gmOp0vY6",
        "outputId": "66fc65f7-7ad3-4843-cfe6-f6e09bf07c38"
      },
      "execution_count": 150,
      "outputs": [
        {
          "output_type": "execute_result",
          "data": {
            "text/plain": [
              "True"
            ]
          },
          "metadata": {},
          "execution_count": 150
        }
      ]
    },
    {
      "cell_type": "markdown",
      "source": [
        "# Summary statistics"
      ],
      "metadata": {
        "id": "WP4F4dq50yTs"
      }
    },
    {
      "cell_type": "markdown",
      "source": [
        "## Given the X numpy array, show the sum of its elements"
      ],
      "metadata": {
        "id": "ZgYRSX9m02qN"
      }
    },
    {
      "cell_type": "code",
      "source": [
        "X = np.array([3, 5, 6, 7, 2, 3, 4, 9, 4])\n",
        "X.sum()"
      ],
      "metadata": {
        "colab": {
          "base_uri": "https://localhost:8080/"
        },
        "id": "vYktGvUO0468",
        "outputId": "ed95d683-437d-4a14-ac07-e0a71a1384ff"
      },
      "execution_count": 152,
      "outputs": [
        {
          "output_type": "execute_result",
          "data": {
            "text/plain": [
              "43"
            ]
          },
          "metadata": {},
          "execution_count": 152
        }
      ]
    },
    {
      "cell_type": "markdown",
      "source": [
        "## Given the X numpy array, show the mean value of its elements\n"
      ],
      "metadata": {
        "id": "ibvSwVNy0-YQ"
      }
    },
    {
      "cell_type": "code",
      "source": [
        "X.mean()"
      ],
      "metadata": {
        "colab": {
          "base_uri": "https://localhost:8080/"
        },
        "id": "vN1R4kOz1BVH",
        "outputId": "1d7acc74-422c-447f-dc26-f24908815ab9"
      },
      "execution_count": 154,
      "outputs": [
        {
          "output_type": "execute_result",
          "data": {
            "text/plain": [
              "4.777777777777778"
            ]
          },
          "metadata": {},
          "execution_count": 154
        }
      ]
    },
    {
      "cell_type": "markdown",
      "source": [
        "## Given the X numpy matrix, show the sum of its columns"
      ],
      "metadata": {
        "id": "0mAdfj-X1Cyz"
      }
    },
    {
      "cell_type": "code",
      "source": [
        "X = np.array([\n",
        "    [1,   2,  3,  4],\n",
        "    [5,   6,  7,  8],\n",
        "    [9,  10, 11, 12],\n",
        "    [13, 14, 15, 16]\n",
        "])\n",
        "X.sum(axis=0)"
      ],
      "metadata": {
        "colab": {
          "base_uri": "https://localhost:8080/"
        },
        "id": "_9i1tLFS1HdD",
        "outputId": "e9661280-1f1e-406c-afed-21bef15ad1e4"
      },
      "execution_count": 160,
      "outputs": [
        {
          "output_type": "execute_result",
          "data": {
            "text/plain": [
              "array([24, 28, 32, 36])"
            ]
          },
          "metadata": {},
          "execution_count": 160
        }
      ]
    },
    {
      "cell_type": "markdown",
      "source": [
        "## Given the X numpy matrix, show the mean value of its rows"
      ],
      "metadata": {
        "id": "M66ctVBF1Jud"
      }
    },
    {
      "cell_type": "code",
      "source": [
        "X = np.array([\n",
        "    [1,   2,  3,  4],\n",
        "    [5,   6,  7,  8],\n",
        "    [9,  10, 11, 12],\n",
        "    [13, 14, 15, 16]\n",
        "])\n",
        "X.mean(axis=1)"
      ],
      "metadata": {
        "colab": {
          "base_uri": "https://localhost:8080/"
        },
        "id": "fkeStOch1erk",
        "outputId": "eee44a44-2c95-45e7-ce9d-cfa78aabb167"
      },
      "execution_count": 162,
      "outputs": [
        {
          "output_type": "execute_result",
          "data": {
            "text/plain": [
              "array([ 2.5,  6.5, 10.5, 14.5])"
            ]
          },
          "metadata": {},
          "execution_count": 162
        }
      ]
    },
    {
      "cell_type": "markdown",
      "source": [
        "## Given the X numpy array, show the max value of its elements"
      ],
      "metadata": {
        "id": "mRGweFbz1k8K"
      }
    },
    {
      "cell_type": "code",
      "source": [
        "X = np.array([\n",
        "    [1,   2,  3,  4],\n",
        "    [5,   6,  7,  8],\n",
        "    [9,  10, 11, 12],\n",
        "    [13, 14, 15, 16]\n",
        "])\n",
        "X.max()"
      ],
      "metadata": {
        "colab": {
          "base_uri": "https://localhost:8080/"
        },
        "id": "0nAWpMVM1nek",
        "outputId": "2def8a35-baeb-44e9-8f90-dd98ccb9c193"
      },
      "execution_count": 163,
      "outputs": [
        {
          "output_type": "execute_result",
          "data": {
            "text/plain": [
              "16"
            ]
          },
          "metadata": {},
          "execution_count": 163
        }
      ]
    }
  ]
}